{
 "cells": [
  {
   "cell_type": "code",
   "execution_count": 1,
   "metadata": {},
   "outputs": [],
   "source": [
    "import calendar\n",
    "import pandas as pd\n",
    "import numpy as np"
   ]
  },
  {
   "cell_type": "code",
   "execution_count": 20,
   "metadata": {},
   "outputs": [],
   "source": [
    "df2 = pd.read_csv(\"../data/demanda_tiempo_real.csv\")\n",
    "df2.drop([\"percentage_Demanda real\", \"percentage_Demanda programada\", \"percentage_Demanda prevista\"], axis = 1, inplace = True)\n",
    "df2[\"datetime\"] = pd.to_datetime(df2[\"datetime\"], utc = True, format = '%Y-%m-%d %H:%M:%S%z')\n",
    "df2['datetime'] = df2['datetime'].dt.tz_convert('Europe/Paris')"
   ]
  },
  {
   "cell_type": "code",
   "execution_count": 21,
   "metadata": {},
   "outputs": [
    {
     "name": "stderr",
     "output_type": "stream",
     "text": [
      "C:\\Users\\Lin\\AppData\\Local\\Temp\\ipykernel_21456\\2075537087.py:3: SettingWithCopyWarning: \n",
      "A value is trying to be set on a copy of a slice from a DataFrame.\n",
      "Try using .loc[row_indexer,col_indexer] = value instead\n",
      "\n",
      "See the caveats in the documentation: https://pandas.pydata.org/pandas-docs/stable/user_guide/indexing.html#returning-a-view-versus-a-copy\n",
      "  df_real[\"tipo\"] = \"real\"\n",
      "C:\\Users\\Lin\\AppData\\Local\\Temp\\ipykernel_21456\\2075537087.py:7: SettingWithCopyWarning: \n",
      "A value is trying to be set on a copy of a slice from a DataFrame.\n",
      "Try using .loc[row_indexer,col_indexer] = value instead\n",
      "\n",
      "See the caveats in the documentation: https://pandas.pydata.org/pandas-docs/stable/user_guide/indexing.html#returning-a-view-versus-a-copy\n",
      "  df_programada[\"tipo\"] = \"programada\"\n",
      "C:\\Users\\Lin\\AppData\\Local\\Temp\\ipykernel_21456\\2075537087.py:11: SettingWithCopyWarning: \n",
      "A value is trying to be set on a copy of a slice from a DataFrame.\n",
      "Try using .loc[row_indexer,col_indexer] = value instead\n",
      "\n",
      "See the caveats in the documentation: https://pandas.pydata.org/pandas-docs/stable/user_guide/indexing.html#returning-a-view-versus-a-copy\n",
      "  df_prevista[\"tipo\"] = \"prevista\"\n"
     ]
    }
   ],
   "source": [
    "df_real = df2[[\"datetime\",\"value_Demanda real\"]]\n",
    "df_real.columns = [\"datetime\", \"demanda\"]\n",
    "df_real[\"tipo\"] = \"real\"\n",
    "\n",
    "df_programada = df2[[\"datetime\",\"value_Demanda programada\"]]\n",
    "df_programada.columns = [\"datetime\", \"demanda\"]\n",
    "df_programada[\"tipo\"] = \"programada\"\n",
    "\n",
    "df_prevista = df2[[\"datetime\",\"value_Demanda prevista\"]]\n",
    "df_prevista.columns = [\"datetime\", \"demanda\"]\n",
    "df_prevista[\"tipo\"] = \"prevista\"\n",
    "\n",
    "df_dtr = pd.concat([df_real, df_programada], axis = 0)\n",
    "df_dtr = pd.concat([df_dtr, df_prevista], axis = 0)"
   ]
  },
  {
   "cell_type": "code",
   "execution_count": 23,
   "metadata": {},
   "outputs": [
    {
     "data": {
      "text/html": [
       "<div>\n",
       "<style scoped>\n",
       "    .dataframe tbody tr th:only-of-type {\n",
       "        vertical-align: middle;\n",
       "    }\n",
       "\n",
       "    .dataframe tbody tr th {\n",
       "        vertical-align: top;\n",
       "    }\n",
       "\n",
       "    .dataframe thead th {\n",
       "        text-align: right;\n",
       "    }\n",
       "</style>\n",
       "<table border=\"1\" class=\"dataframe\">\n",
       "  <thead>\n",
       "    <tr style=\"text-align: right;\">\n",
       "      <th></th>\n",
       "      <th>datetime</th>\n",
       "      <th>demanda</th>\n",
       "      <th>tipo</th>\n",
       "    </tr>\n",
       "  </thead>\n",
       "  <tbody>\n",
       "    <tr>\n",
       "      <th>0</th>\n",
       "      <td>2014-01-01 00:00:00+01:00</td>\n",
       "      <td>24546</td>\n",
       "      <td>real</td>\n",
       "    </tr>\n",
       "    <tr>\n",
       "      <th>1</th>\n",
       "      <td>2014-01-01 00:10:00+01:00</td>\n",
       "      <td>24309</td>\n",
       "      <td>real</td>\n",
       "    </tr>\n",
       "    <tr>\n",
       "      <th>2</th>\n",
       "      <td>2014-01-01 00:20:00+01:00</td>\n",
       "      <td>24348</td>\n",
       "      <td>real</td>\n",
       "    </tr>\n",
       "    <tr>\n",
       "      <th>3</th>\n",
       "      <td>2014-01-01 00:30:00+01:00</td>\n",
       "      <td>24321</td>\n",
       "      <td>real</td>\n",
       "    </tr>\n",
       "    <tr>\n",
       "      <th>4</th>\n",
       "      <td>2014-01-01 00:40:00+01:00</td>\n",
       "      <td>24194</td>\n",
       "      <td>real</td>\n",
       "    </tr>\n",
       "  </tbody>\n",
       "</table>\n",
       "</div>"
      ],
      "text/plain": [
       "                   datetime  demanda  tipo\n",
       "0 2014-01-01 00:00:00+01:00    24546  real\n",
       "1 2014-01-01 00:10:00+01:00    24309  real\n",
       "2 2014-01-01 00:20:00+01:00    24348  real\n",
       "3 2014-01-01 00:30:00+01:00    24321  real\n",
       "4 2014-01-01 00:40:00+01:00    24194  real"
      ]
     },
     "execution_count": 23,
     "metadata": {},
     "output_type": "execute_result"
    }
   ],
   "source": [
    "df_dtr.head()"
   ]
  },
  {
   "cell_type": "code",
   "execution_count": 24,
   "metadata": {},
   "outputs": [],
   "source": [
    "df_dtr.to_csv(\"../data/demanda_tiempo_real_limpio.csv\", index=False)"
   ]
  },
  {
   "cell_type": "code",
   "execution_count": null,
   "metadata": {},
   "outputs": [],
   "source": []
  }
 ],
 "metadata": {
  "kernelspec": {
   "display_name": "base",
   "language": "python",
   "name": "python3"
  },
  "language_info": {
   "codemirror_mode": {
    "name": "ipython",
    "version": 3
   },
   "file_extension": ".py",
   "mimetype": "text/x-python",
   "name": "python",
   "nbconvert_exporter": "python",
   "pygments_lexer": "ipython3",
   "version": "3.9.12"
  },
  "orig_nbformat": 4
 },
 "nbformat": 4,
 "nbformat_minor": 2
}
