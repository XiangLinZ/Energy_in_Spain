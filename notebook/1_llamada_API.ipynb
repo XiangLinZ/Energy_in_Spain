{
 "cells": [
  {
   "cell_type": "code",
   "execution_count": 1,
   "metadata": {},
   "outputs": [],
   "source": [
    "import pandas as pd\n",
    "\n",
    "import sys\n",
    "sys.path.append(\"../\")\n",
    "import src.soporte as sp\n",
    "\n"
   ]
  },
  {
   "cell_type": "code",
   "execution_count": null,
   "metadata": {},
   "outputs": [],
   "source": [
    "# Realizo llamadas a la API REData para obtener el balance\n",
    "sp.balance()"
   ]
  },
  {
   "cell_type": "code",
   "execution_count": 5,
   "metadata": {},
   "outputs": [
    {
     "data": {
      "text/html": [
       "<div>\n",
       "<style scoped>\n",
       "    .dataframe tbody tr th:only-of-type {\n",
       "        vertical-align: middle;\n",
       "    }\n",
       "\n",
       "    .dataframe tbody tr th {\n",
       "        vertical-align: top;\n",
       "    }\n",
       "\n",
       "    .dataframe thead th {\n",
       "        text-align: right;\n",
       "    }\n",
       "</style>\n",
       "<table border=\"1\" class=\"dataframe\">\n",
       "  <thead>\n",
       "    <tr style=\"text-align: right;\">\n",
       "      <th></th>\n",
       "      <th>datetime</th>\n",
       "      <th>value_Hidráulica</th>\n",
       "      <th>percentage_Hidráulica</th>\n",
       "      <th>value_Eólica</th>\n",
       "      <th>percentage_Eólica</th>\n",
       "      <th>value_Solar fotovoltaica</th>\n",
       "      <th>percentage_Solar fotovoltaica</th>\n",
       "      <th>value_Solar térmica</th>\n",
       "      <th>percentage_Solar térmica</th>\n",
       "      <th>value_Otras renovables</th>\n",
       "      <th>...</th>\n",
       "      <th>value_Generación no renovable</th>\n",
       "      <th>percentage_Generación no renovable</th>\n",
       "      <th>value_Consumos en bombeo</th>\n",
       "      <th>percentage_Consumos en bombeo</th>\n",
       "      <th>value_Saldo I. internacionales</th>\n",
       "      <th>percentage_Saldo I. internacionales</th>\n",
       "      <th>value_Demanda en b.c.</th>\n",
       "      <th>percentage_Demanda en b.c.</th>\n",
       "      <th>value_Hidroeólica</th>\n",
       "      <th>percentage_Hidroeólica</th>\n",
       "    </tr>\n",
       "  </thead>\n",
       "  <tbody>\n",
       "    <tr>\n",
       "      <th>0</th>\n",
       "      <td>2013-01-01T00:00:00.000+01:00</td>\n",
       "      <td>66558.820</td>\n",
       "      <td>0.265905</td>\n",
       "      <td>159736.163</td>\n",
       "      <td>0.638151</td>\n",
       "      <td>10311.537</td>\n",
       "      <td>0.041195</td>\n",
       "      <td>982.070</td>\n",
       "      <td>0.003923</td>\n",
       "      <td>11133.884</td>\n",
       "      <td>...</td>\n",
       "      <td>361783.836</td>\n",
       "      <td>1</td>\n",
       "      <td>-29008.160</td>\n",
       "      <td>0.045130</td>\n",
       "      <td>-1663.129</td>\n",
       "      <td>0.002587</td>\n",
       "      <td>581423.444</td>\n",
       "      <td>1</td>\n",
       "      <td>NaN</td>\n",
       "      <td>NaN</td>\n",
       "    </tr>\n",
       "    <tr>\n",
       "      <th>1</th>\n",
       "      <td>2013-01-02T00:00:00.000+01:00</td>\n",
       "      <td>80201.734</td>\n",
       "      <td>0.250916</td>\n",
       "      <td>208335.946</td>\n",
       "      <td>0.651792</td>\n",
       "      <td>14866.830</td>\n",
       "      <td>0.046512</td>\n",
       "      <td>3334.936</td>\n",
       "      <td>0.010434</td>\n",
       "      <td>11299.790</td>\n",
       "      <td>...</td>\n",
       "      <td>424205.644</td>\n",
       "      <td>1</td>\n",
       "      <td>-10689.626</td>\n",
       "      <td>0.014116</td>\n",
       "      <td>-2717.097</td>\n",
       "      <td>0.003588</td>\n",
       "      <td>730434.573</td>\n",
       "      <td>1</td>\n",
       "      <td>NaN</td>\n",
       "      <td>NaN</td>\n",
       "    </tr>\n",
       "    <tr>\n",
       "      <th>2</th>\n",
       "      <td>2013-01-03T00:00:00.000+01:00</td>\n",
       "      <td>84810.292</td>\n",
       "      <td>0.345133</td>\n",
       "      <td>120064.699</td>\n",
       "      <td>0.488600</td>\n",
       "      <td>19324.717</td>\n",
       "      <td>0.078641</td>\n",
       "      <td>8319.346</td>\n",
       "      <td>0.033855</td>\n",
       "      <td>11582.596</td>\n",
       "      <td>...</td>\n",
       "      <td>512724.397</td>\n",
       "      <td>1</td>\n",
       "      <td>-13846.270</td>\n",
       "      <td>0.017485</td>\n",
       "      <td>19591.119</td>\n",
       "      <td>0.024740</td>\n",
       "      <td>764201.372</td>\n",
       "      <td>1</td>\n",
       "      <td>NaN</td>\n",
       "      <td>NaN</td>\n",
       "    </tr>\n",
       "    <tr>\n",
       "      <th>3</th>\n",
       "      <td>2013-01-04T00:00:00.000+01:00</td>\n",
       "      <td>88815.608</td>\n",
       "      <td>0.433106</td>\n",
       "      <td>74322.618</td>\n",
       "      <td>0.362431</td>\n",
       "      <td>20307.624</td>\n",
       "      <td>0.099029</td>\n",
       "      <td>8700.478</td>\n",
       "      <td>0.042428</td>\n",
       "      <td>11444.623</td>\n",
       "      <td>...</td>\n",
       "      <td>546563.112</td>\n",
       "      <td>1</td>\n",
       "      <td>-7962.318</td>\n",
       "      <td>0.010250</td>\n",
       "      <td>17234.389</td>\n",
       "      <td>0.022186</td>\n",
       "      <td>760902.020</td>\n",
       "      <td>1</td>\n",
       "      <td>NaN</td>\n",
       "      <td>NaN</td>\n",
       "    </tr>\n",
       "    <tr>\n",
       "      <th>4</th>\n",
       "      <td>2013-01-05T00:00:00.000+01:00</td>\n",
       "      <td>70184.389</td>\n",
       "      <td>0.310079</td>\n",
       "      <td>114679.540</td>\n",
       "      <td>0.506661</td>\n",
       "      <td>20332.367</td>\n",
       "      <td>0.089830</td>\n",
       "      <td>8075.142</td>\n",
       "      <td>0.035676</td>\n",
       "      <td>11494.886</td>\n",
       "      <td>...</td>\n",
       "      <td>469639.956</td>\n",
       "      <td>1</td>\n",
       "      <td>-7064.770</td>\n",
       "      <td>0.009990</td>\n",
       "      <td>-4112.630</td>\n",
       "      <td>0.005816</td>\n",
       "      <td>684806.211</td>\n",
       "      <td>1</td>\n",
       "      <td>NaN</td>\n",
       "      <td>NaN</td>\n",
       "    </tr>\n",
       "  </tbody>\n",
       "</table>\n",
       "<p>5 rows × 45 columns</p>\n",
       "</div>"
      ],
      "text/plain": [
       "                        datetime  value_Hidráulica  percentage_Hidráulica  \\\n",
       "0  2013-01-01T00:00:00.000+01:00         66558.820               0.265905   \n",
       "1  2013-01-02T00:00:00.000+01:00         80201.734               0.250916   \n",
       "2  2013-01-03T00:00:00.000+01:00         84810.292               0.345133   \n",
       "3  2013-01-04T00:00:00.000+01:00         88815.608               0.433106   \n",
       "4  2013-01-05T00:00:00.000+01:00         70184.389               0.310079   \n",
       "\n",
       "   value_Eólica  percentage_Eólica  value_Solar fotovoltaica  \\\n",
       "0    159736.163           0.638151                 10311.537   \n",
       "1    208335.946           0.651792                 14866.830   \n",
       "2    120064.699           0.488600                 19324.717   \n",
       "3     74322.618           0.362431                 20307.624   \n",
       "4    114679.540           0.506661                 20332.367   \n",
       "\n",
       "   percentage_Solar fotovoltaica  value_Solar térmica  \\\n",
       "0                       0.041195              982.070   \n",
       "1                       0.046512             3334.936   \n",
       "2                       0.078641             8319.346   \n",
       "3                       0.099029             8700.478   \n",
       "4                       0.089830             8075.142   \n",
       "\n",
       "   percentage_Solar térmica  value_Otras renovables  ...  \\\n",
       "0                  0.003923               11133.884  ...   \n",
       "1                  0.010434               11299.790  ...   \n",
       "2                  0.033855               11582.596  ...   \n",
       "3                  0.042428               11444.623  ...   \n",
       "4                  0.035676               11494.886  ...   \n",
       "\n",
       "   value_Generación no renovable  percentage_Generación no renovable  \\\n",
       "0                     361783.836                                   1   \n",
       "1                     424205.644                                   1   \n",
       "2                     512724.397                                   1   \n",
       "3                     546563.112                                   1   \n",
       "4                     469639.956                                   1   \n",
       "\n",
       "   value_Consumos en bombeo  percentage_Consumos en bombeo  \\\n",
       "0                -29008.160                       0.045130   \n",
       "1                -10689.626                       0.014116   \n",
       "2                -13846.270                       0.017485   \n",
       "3                 -7962.318                       0.010250   \n",
       "4                 -7064.770                       0.009990   \n",
       "\n",
       "   value_Saldo I. internacionales  percentage_Saldo I. internacionales  \\\n",
       "0                       -1663.129                             0.002587   \n",
       "1                       -2717.097                             0.003588   \n",
       "2                       19591.119                             0.024740   \n",
       "3                       17234.389                             0.022186   \n",
       "4                       -4112.630                             0.005816   \n",
       "\n",
       "   value_Demanda en b.c.  percentage_Demanda en b.c.  value_Hidroeólica  \\\n",
       "0             581423.444                           1                NaN   \n",
       "1             730434.573                           1                NaN   \n",
       "2             764201.372                           1                NaN   \n",
       "3             760902.020                           1                NaN   \n",
       "4             684806.211                           1                NaN   \n",
       "\n",
       "   percentage_Hidroeólica  \n",
       "0                     NaN  \n",
       "1                     NaN  \n",
       "2                     NaN  \n",
       "3                     NaN  \n",
       "4                     NaN  \n",
       "\n",
       "[5 rows x 45 columns]"
      ]
     },
     "execution_count": 5,
     "metadata": {},
     "output_type": "execute_result"
    }
   ],
   "source": [
    "# Cargamos los resultados para obtener una pequeña visualización de los datos\n",
    "df_balance = pd.read_csv(\"../data/scrap/balance.csv\")\n",
    "df_balance.head()"
   ]
  },
  {
   "cell_type": "code",
   "execution_count": null,
   "metadata": {},
   "outputs": [],
   "source": [
    "# Realizo llamadas a la API REData para obtener el balance por Comunidad Autónoma\n",
    "sp.balance_ccaa()"
   ]
  },
  {
   "cell_type": "code",
   "execution_count": null,
   "metadata": {},
   "outputs": [],
   "source": [
    "# Realizo llamadas a la API REData para obtener la demanda de energía\n",
    "sp.demanda()"
   ]
  },
  {
   "cell_type": "code",
   "execution_count": null,
   "metadata": {},
   "outputs": [],
   "source": [
    "# Realizo llamadas a la API REData para obtener la demanda de energía por Comunidad Autónoma\n",
    "sp.demanda_ccaa()"
   ]
  },
  {
   "cell_type": "code",
   "execution_count": null,
   "metadata": {},
   "outputs": [],
   "source": [
    "# Realizo llamadas a la API REData para obtener la demanda diaria máxima de cada mes\n",
    "sp.demanda_max_diaria()"
   ]
  },
  {
   "cell_type": "code",
   "execution_count": null,
   "metadata": {},
   "outputs": [],
   "source": [
    "# Realizo llamadas a la API REData para obtener la demanda horaria máxima de cada mes\n",
    "sp.demanda_max_horaria()"
   ]
  },
  {
   "cell_type": "code",
   "execution_count": null,
   "metadata": {},
   "outputs": [],
   "source": [
    "# Realizo llamadas a la API REData para obtener las pérdidas energéticas por transporte\n",
    "sp.perdidas_transporte()"
   ]
  },
  {
   "cell_type": "code",
   "execution_count": null,
   "metadata": {},
   "outputs": [],
   "source": [
    "# Realizo llamadas a la API REData para obtener la potencia máxima mensual\n",
    "sp.potencia_maxima_instantanea()"
   ]
  },
  {
   "cell_type": "code",
   "execution_count": null,
   "metadata": {},
   "outputs": [],
   "source": [
    "# Realizo llamadas a la API REData para obtener la demanda de energía real por minutos, además de las predicciones españolas y la energía programada\n",
    "sp.demanda_tiempo_real()"
   ]
  },
  {
   "cell_type": "code",
   "execution_count": null,
   "metadata": {},
   "outputs": [],
   "source": [
    "# Realizo llamadas a la API REData para obtener los datos sobre la evolución de las energías renovables\n",
    "sp.evolucion_renovable()"
   ]
  },
  {
   "cell_type": "code",
   "execution_count": null,
   "metadata": {},
   "outputs": [],
   "source": [
    "# Realizo llamadas a la API REData para obtener los datos sobre la evolución de las energías renovables por Comunidades Autónomas\n",
    "sp.evolucion_renovable_ccaa()"
   ]
  },
  {
   "cell_type": "code",
   "execution_count": null,
   "metadata": {},
   "outputs": [],
   "source": [
    "# Realizo llamadas a la API REData para obtener Los porcentajes procedentes de energías renovables\n",
    "sp.estructura_renovable()"
   ]
  },
  {
   "cell_type": "code",
   "execution_count": null,
   "metadata": {},
   "outputs": [],
   "source": [
    "# Realizo llamadas a la API REData para obtener los datos sobre la cantidades de emisión de CO2\n",
    "sp.emisiones_CO2()"
   ]
  },
  {
   "cell_type": "code",
   "execution_count": null,
   "metadata": {},
   "outputs": [],
   "source": [
    "# Realizo llamadas a la API REData para obtener los datos sobre la evolución del precio de la energía\n",
    "sp.precios_mercados()"
   ]
  }
 ],
 "metadata": {
  "kernelspec": {
   "display_name": "base",
   "language": "python",
   "name": "python3"
  },
  "language_info": {
   "codemirror_mode": {
    "name": "ipython",
    "version": 3
   },
   "file_extension": ".py",
   "mimetype": "text/x-python",
   "name": "python",
   "nbconvert_exporter": "python",
   "pygments_lexer": "ipython3",
   "version": "3.9.12"
  },
  "orig_nbformat": 4
 },
 "nbformat": 4,
 "nbformat_minor": 2
}
