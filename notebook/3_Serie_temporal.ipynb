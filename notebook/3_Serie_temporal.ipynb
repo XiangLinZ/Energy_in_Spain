{
 "cells": [
  {
   "cell_type": "code",
   "execution_count": 1,
   "metadata": {},
   "outputs": [],
   "source": [
    "import pandas as pd\n",
    "import numpy as np\n",
    "import seaborn as sns\n",
    "from tqdm import tqdm\n",
    "\n",
    "from datetime import datetime\n",
    "\n",
    "from pycaret.time_series import *\n",
    "\n",
    "import matplotlib.pyplot as plt\n",
    "plt.rcParams['figure.figsize'] = [10, 5]\n",
    "\n",
    "\n",
    "## Para sacar los componentes de la serie temporal\n",
    "################################################################\n",
    "from statsmodels.tsa.seasonal import seasonal_decompose\n",
    "\n",
    "\n",
    "## Para calcular la estacionaridad de nuestras series temporales\n",
    "################################################################\n",
    "from statsmodels.tsa.stattools import adfuller\n",
    "\n",
    "## Para calcular la autocorrelación en la serie temporal\n",
    "################################################################\n",
    "from statsmodels.graphics.tsaplots import plot_acf\n",
    "from statsmodels.graphics.tsaplots import plot_pacf\n",
    "\n",
    "## Para ajustar los modelos predictivos\n",
    "################################################################\n",
    "from statsmodels.tsa.arima.model import ARIMA\n",
    "from itertools import product\n",
    "\n",
    "## Para las metricas del modelo\n",
    "################################################################\n",
    "from sklearn.metrics import mean_squared_error\n",
    "\n",
    "## Para ignorar los warnings\n",
    "################################################################\n",
    "import warnings\n",
    "warnings.filterwarnings(\"ignore\")\n",
    "\n",
    "import pickle\n"
   ]
  },
  {
   "cell_type": "code",
   "execution_count": 2,
   "metadata": {},
   "outputs": [],
   "source": [
    "df = pd.read_csv(\"../data/scrap/demanda_tiempo_real.csv\")\n",
    "df.drop([\"percentage_Demanda real\", \"percentage_Demanda programada\", \"percentage_Demanda prevista\"], axis = 1, inplace = True)\n",
    "df[\"datetime\"] = pd.to_datetime(df[\"datetime\"], utc = True, format = '%Y-%m-%d %H:%M:%S%z')\n",
    "df[\"drop\"] = df[\"datetime\"].where(df[\"datetime\"].dt.minute % 10 == 0, other= \"drop\")\n",
    "df = df[df[\"drop\"] != \"drop\"]\n",
    "df.drop([\"drop\"], inplace = True, axis = 1)\n",
    "df = df[[\"datetime\", \"value_Demanda real\"]].rename(columns = {\"value_Demanda real\" : \"demanda_real\"})"
   ]
  },
  {
   "cell_type": "code",
   "execution_count": 3,
   "metadata": {},
   "outputs": [],
   "source": [
    "df[\"datetime\"] = pd.date_range(datetime(2013, 12, 31, hour = 23, minute=0), periods = 486228, freq = '10min')"
   ]
  },
  {
   "cell_type": "code",
   "execution_count": 4,
   "metadata": {},
   "outputs": [
    {
     "data": {
      "text/html": [
       "<div>\n",
       "<style scoped>\n",
       "    .dataframe tbody tr th:only-of-type {\n",
       "        vertical-align: middle;\n",
       "    }\n",
       "\n",
       "    .dataframe tbody tr th {\n",
       "        vertical-align: top;\n",
       "    }\n",
       "\n",
       "    .dataframe thead th {\n",
       "        text-align: right;\n",
       "    }\n",
       "</style>\n",
       "<table border=\"1\" class=\"dataframe\">\n",
       "  <thead>\n",
       "    <tr style=\"text-align: right;\">\n",
       "      <th></th>\n",
       "      <th>datetime</th>\n",
       "      <th>demanda_real</th>\n",
       "    </tr>\n",
       "  </thead>\n",
       "  <tbody>\n",
       "    <tr>\n",
       "      <th>0</th>\n",
       "      <td>2013-12-31 23:00:00</td>\n",
       "      <td>24546</td>\n",
       "    </tr>\n",
       "    <tr>\n",
       "      <th>1</th>\n",
       "      <td>2013-12-31 23:10:00</td>\n",
       "      <td>24309</td>\n",
       "    </tr>\n",
       "    <tr>\n",
       "      <th>2</th>\n",
       "      <td>2013-12-31 23:20:00</td>\n",
       "      <td>24348</td>\n",
       "    </tr>\n",
       "    <tr>\n",
       "      <th>3</th>\n",
       "      <td>2013-12-31 23:30:00</td>\n",
       "      <td>24321</td>\n",
       "    </tr>\n",
       "    <tr>\n",
       "      <th>4</th>\n",
       "      <td>2013-12-31 23:40:00</td>\n",
       "      <td>24194</td>\n",
       "    </tr>\n",
       "  </tbody>\n",
       "</table>\n",
       "</div>"
      ],
      "text/plain": [
       "             datetime  demanda_real\n",
       "0 2013-12-31 23:00:00         24546\n",
       "1 2013-12-31 23:10:00         24309\n",
       "2 2013-12-31 23:20:00         24348\n",
       "3 2013-12-31 23:30:00         24321\n",
       "4 2013-12-31 23:40:00         24194"
      ]
     },
     "execution_count": 4,
     "metadata": {},
     "output_type": "execute_result"
    }
   ],
   "source": [
    "df.head()"
   ]
  },
  {
   "cell_type": "code",
   "execution_count": 5,
   "metadata": {},
   "outputs": [],
   "source": [
    "df.index = pd.to_datetime(df[\"datetime\"])"
   ]
  },
  {
   "cell_type": "code",
   "execution_count": 6,
   "metadata": {},
   "outputs": [
    {
     "data": {
      "text/plain": [
       "DatetimeIndex(['2013-12-31 23:00:00', '2013-12-31 23:10:00',\n",
       "               '2013-12-31 23:20:00', '2013-12-31 23:30:00',\n",
       "               '2013-12-31 23:40:00', '2013-12-31 23:50:00',\n",
       "               '2014-01-01 00:00:00', '2014-01-01 00:10:00',\n",
       "               '2014-01-01 00:20:00', '2014-01-01 00:30:00',\n",
       "               ...\n",
       "               '2023-03-31 11:20:00', '2023-03-31 11:30:00',\n",
       "               '2023-03-31 11:40:00', '2023-03-31 11:50:00',\n",
       "               '2023-03-31 12:00:00', '2023-03-31 12:10:00',\n",
       "               '2023-03-31 12:20:00', '2023-03-31 12:30:00',\n",
       "               '2023-03-31 12:40:00', '2023-03-31 12:50:00'],\n",
       "              dtype='datetime64[ns]', name='datetime', length=486228, freq='10T')"
      ]
     },
     "execution_count": 6,
     "metadata": {},
     "output_type": "execute_result"
    }
   ],
   "source": [
    "df.index.freq = pd.infer_freq(df.index)\n",
    "df.index"
   ]
  },
  {
   "cell_type": "code",
   "execution_count": 7,
   "metadata": {},
   "outputs": [
    {
     "data": {
      "text/html": [
       "<div>\n",
       "<style scoped>\n",
       "    .dataframe tbody tr th:only-of-type {\n",
       "        vertical-align: middle;\n",
       "    }\n",
       "\n",
       "    .dataframe tbody tr th {\n",
       "        vertical-align: top;\n",
       "    }\n",
       "\n",
       "    .dataframe thead th {\n",
       "        text-align: right;\n",
       "    }\n",
       "</style>\n",
       "<table border=\"1\" class=\"dataframe\">\n",
       "  <thead>\n",
       "    <tr style=\"text-align: right;\">\n",
       "      <th></th>\n",
       "      <th>demanda_real</th>\n",
       "    </tr>\n",
       "    <tr>\n",
       "      <th>datetime</th>\n",
       "      <th></th>\n",
       "    </tr>\n",
       "  </thead>\n",
       "  <tbody>\n",
       "    <tr>\n",
       "      <th>2013-12-31 23:00:00</th>\n",
       "      <td>24546</td>\n",
       "    </tr>\n",
       "    <tr>\n",
       "      <th>2013-12-31 23:10:00</th>\n",
       "      <td>24309</td>\n",
       "    </tr>\n",
       "    <tr>\n",
       "      <th>2013-12-31 23:20:00</th>\n",
       "      <td>24348</td>\n",
       "    </tr>\n",
       "    <tr>\n",
       "      <th>2013-12-31 23:30:00</th>\n",
       "      <td>24321</td>\n",
       "    </tr>\n",
       "    <tr>\n",
       "      <th>2013-12-31 23:40:00</th>\n",
       "      <td>24194</td>\n",
       "    </tr>\n",
       "  </tbody>\n",
       "</table>\n",
       "</div>"
      ],
      "text/plain": [
       "                     demanda_real\n",
       "datetime                         \n",
       "2013-12-31 23:00:00         24546\n",
       "2013-12-31 23:10:00         24309\n",
       "2013-12-31 23:20:00         24348\n",
       "2013-12-31 23:30:00         24321\n",
       "2013-12-31 23:40:00         24194"
      ]
     },
     "execution_count": 7,
     "metadata": {},
     "output_type": "execute_result"
    }
   ],
   "source": [
    "df.drop(columns=['datetime'], inplace=True)\n",
    "df.head()"
   ]
  },
  {
   "cell_type": "code",
   "execution_count": 8,
   "metadata": {},
   "outputs": [
    {
     "data": {
      "text/plain": [
       "demanda_real    0\n",
       "dtype: int64"
      ]
     },
     "execution_count": 8,
     "metadata": {},
     "output_type": "execute_result"
    }
   ],
   "source": [
    "df.isnull().sum()"
   ]
  },
  {
   "cell_type": "code",
   "execution_count": 9,
   "metadata": {},
   "outputs": [],
   "source": [
    "df.columns = [\"valores\"]"
   ]
  },
  {
   "cell_type": "code",
   "execution_count": 10,
   "metadata": {},
   "outputs": [],
   "source": [
    "!pip install pycaret"
   ]
  },
  {
   "cell_type": "code",
   "execution_count": null,
   "metadata": {},
   "outputs": [],
   "source": [
    "from pycaret.time_series import *\n",
    "s = setup(data, fh = 3, fold = 5, session_id = 123)"
   ]
  },
  {
   "cell_type": "code",
   "execution_count": null,
   "metadata": {},
   "outputs": [],
   "source": [
    "#EstacionaLidad\n",
    "df2 = df.copy()\n",
    "df2.head()"
   ]
  },
  {
   "cell_type": "code",
   "execution_count": null,
   "metadata": {},
   "outputs": [],
   "source": [
    "df2[\"year\"] = df2.index.year\n",
    "df2[\"month\"] = df2.index.month\n",
    "df2.head()"
   ]
  },
  {
   "cell_type": "code",
   "execution_count": null,
   "metadata": {},
   "outputs": [],
   "source": [
    "fig, ax = plt.subplots(figsize=(15, 6))\n",
    "\n",
    "sns.lineplot(x = 'month',  y = 'valores', hue=df2['year'], data = df2)\n",
    "ax.set_title('Estacionalidad temperatura', fontsize = 20, loc='center')\n",
    "ax.set_xlabel('Mes')\n",
    "ax.set_ylabel('Evolución de la temperatura');"
   ]
  },
  {
   "cell_type": "code",
   "execution_count": null,
   "metadata": {},
   "outputs": [],
   "source": [
    "# EstacionaRidad\n",
    "df.plot(figsize=(15,6))\n",
    "plt.title(\"Evolución de la temperatura\")\n",
    "plt.axhline(df.valores.mean(), c=\"g\", label=\"mean\")\n",
    "plt.legend();"
   ]
  },
  {
   "cell_type": "code",
   "execution_count": null,
   "metadata": {},
   "outputs": [],
   "source": [
    "plt.figure(figsize=(15,6))\n",
    "plt.title(\"Evolución de la temperatura\")\n",
    "\n",
    "plt.plot(df[\"valores\"], label=\"AvgTemp\", linewidth=8, c = \"skyblue\")\n",
    "plt.plot(df.rolling(window = 12).mean(), label=\"rolling window\", c= \"r\", linewidth = 0.5)\n",
    "\n",
    "plt.legend();"
   ]
  },
  {
   "cell_type": "code",
   "execution_count": null,
   "metadata": {},
   "outputs": [],
   "source": [
    "res_ad = adfuller(df[\"valores\"])\n",
    "res_ad"
   ]
  },
  {
   "cell_type": "code",
   "execution_count": null,
   "metadata": {},
   "outputs": [],
   "source": [
    "print('ADF Statistic:', res_ad[0])\n",
    "print('p-value:', res_ad[1])\n",
    "print('Critical Values:')\n",
    "for key, value in res_ad[4].items():\n",
    "    print( \"\\t\",  key, round(value, 2))"
   ]
  },
  {
   "cell_type": "code",
   "execution_count": null,
   "metadata": {},
   "outputs": [],
   "source": [
    "auto = [90, 180]\n",
    "partial = [14, 40]"
   ]
  },
  {
   "cell_type": "code",
   "execution_count": null,
   "metadata": {},
   "outputs": [],
   "source": [
    "fig, axes = plt.subplots(2, 1, figsize=(15,10))\n",
    "plot_acf(df, lags=200, ax= axes[0])\n",
    "plot_pacf(df, lags=40, ax= axes[1]);"
   ]
  },
  {
   "cell_type": "code",
   "execution_count": null,
   "metadata": {},
   "outputs": [],
   "source": [
    "y_test = df[\"valores\"][-30:]\n",
    "y_train = df[\"valores\"][:-30]"
   ]
  },
  {
   "cell_type": "code",
   "execution_count": null,
   "metadata": {},
   "outputs": [],
   "source": [
    "ps = range(90)\n",
    "qs = range(14)\n",
    "\n",
    "parameters = list(product(ps, qs))\n",
    "print(parameters)"
   ]
  },
  {
   "cell_type": "code",
   "execution_count": null,
   "metadata": {},
   "outputs": [],
   "source": [
    "%%time\n",
    "rmse = []\n",
    "order = []\n",
    "for p,q in tqdm(parameters):\n",
    "    try:\n",
    "        modelo=ARIMA(y_train, order=(p, 0, q)).fit()\n",
    "        pred = modelo.predict(start=len(y_train), end=len(df) -1)\n",
    "        error = np.sqrt(np.mean(mean_squared_error(y_test, pred)))\n",
    "        rmse.append(error)\n",
    "        order.append((p,q))\n",
    "    except: \n",
    "        continue"
   ]
  },
  {
   "cell_type": "code",
   "execution_count": null,
   "metadata": {},
   "outputs": [],
   "source": []
  }
 ],
 "metadata": {
  "kernelspec": {
   "display_name": "base",
   "language": "python",
   "name": "python3"
  },
  "language_info": {
   "codemirror_mode": {
    "name": "ipython",
    "version": 3
   },
   "file_extension": ".py",
   "mimetype": "text/x-python",
   "name": "python",
   "nbconvert_exporter": "python",
   "pygments_lexer": "ipython3",
   "version": "3.9.12"
  },
  "orig_nbformat": 4
 },
 "nbformat": 4,
 "nbformat_minor": 2
}
