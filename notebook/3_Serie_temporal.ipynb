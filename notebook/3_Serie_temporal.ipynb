{
 "cells": [
  {
   "cell_type": "code",
   "execution_count": 21,
   "metadata": {},
   "outputs": [],
   "source": [
    "import pandas as pd\n",
    "from pycaret.time_series import *\n",
    "import datetime\n",
    "\n",
    "import matplotlib.pyplot as plt\n",
    "plt.rcParams['figure.figsize'] = [10, 5]\n",
    "\n",
    "import warnings\n",
    "warnings.filterwarnings(\"ignore\")"
   ]
  },
  {
   "cell_type": "code",
   "execution_count": 22,
   "metadata": {},
   "outputs": [],
   "source": [
    "# Cargar datos desde un archivo CSV\n",
    "df = pd.read_csv(\"../data/scrap/demanda_tiempo_real.csv\")\n",
    "\n",
    "# Eliminar columnas innecesarias del DataFrame\n",
    "df.drop([\"percentage_Demanda real\", \"percentage_Demanda programada\", \"percentage_Demanda prevista\"], axis=1, inplace=True)\n",
    "\n",
    "# Convertir la columna \"datetime\" a tipo de dato datetime con zona horaria UTC y formato específico\n",
    "df[\"datetime\"] = pd.to_datetime(df[\"datetime\"], utc=True, format='%Y-%m-%d %H:%M:%S%z')\n",
    "\n",
    "# Crear una nueva columna \"drop\" que contiene \"datetime\" si los minutos no son múltiplo de 10, de lo contrario contiene \"drop\"\n",
    "df[\"drop\"] = df[\"datetime\"].where(df[\"datetime\"].dt.minute % 10 == 0, other=\"drop\")\n",
    "\n",
    "# Filtrar las filas donde \"drop\" no sea igual a \"drop\", eliminando las filas que no son múltiplo de 10 minutos\n",
    "df = df[df[\"drop\"] != \"drop\"]\n",
    "\n",
    "# Eliminar la columna \"drop\" ya que ya no es necesaria\n",
    "df.drop([\"drop\"], inplace=True, axis=1)\n",
    "\n",
    "# Seleccionar y renombrar las columnas relevantes\n",
    "df = df[[\"datetime\", \"value_Demanda real\"]].rename(columns={\"value_Demanda real\": \"demanda_real\"})\n"
   ]
  },
  {
   "cell_type": "code",
   "execution_count": 3,
   "metadata": {},
   "outputs": [],
   "source": [
    "# Crear una nueva columna \"datetime\" con una secuencia de fechas y horas\n",
    "df[\"datetime\"] = pd.date_range(datetime(2013, 12, 31, hour = 23, minute=0), periods = 486228, freq = '10min')"
   ]
  },
  {
   "cell_type": "code",
   "execution_count": 4,
   "metadata": {},
   "outputs": [
    {
     "data": {
      "text/html": [
       "<div>\n",
       "<style scoped>\n",
       "    .dataframe tbody tr th:only-of-type {\n",
       "        vertical-align: middle;\n",
       "    }\n",
       "\n",
       "    .dataframe tbody tr th {\n",
       "        vertical-align: top;\n",
       "    }\n",
       "\n",
       "    .dataframe thead th {\n",
       "        text-align: right;\n",
       "    }\n",
       "</style>\n",
       "<table border=\"1\" class=\"dataframe\">\n",
       "  <thead>\n",
       "    <tr style=\"text-align: right;\">\n",
       "      <th></th>\n",
       "      <th>datetime</th>\n",
       "      <th>demanda_real</th>\n",
       "    </tr>\n",
       "  </thead>\n",
       "  <tbody>\n",
       "    <tr>\n",
       "      <th>0</th>\n",
       "      <td>2013-12-31 23:00:00</td>\n",
       "      <td>24546</td>\n",
       "    </tr>\n",
       "    <tr>\n",
       "      <th>1</th>\n",
       "      <td>2013-12-31 23:10:00</td>\n",
       "      <td>24309</td>\n",
       "    </tr>\n",
       "    <tr>\n",
       "      <th>2</th>\n",
       "      <td>2013-12-31 23:20:00</td>\n",
       "      <td>24348</td>\n",
       "    </tr>\n",
       "    <tr>\n",
       "      <th>3</th>\n",
       "      <td>2013-12-31 23:30:00</td>\n",
       "      <td>24321</td>\n",
       "    </tr>\n",
       "    <tr>\n",
       "      <th>4</th>\n",
       "      <td>2013-12-31 23:40:00</td>\n",
       "      <td>24194</td>\n",
       "    </tr>\n",
       "  </tbody>\n",
       "</table>\n",
       "</div>"
      ],
      "text/plain": [
       "             datetime  demanda_real\n",
       "0 2013-12-31 23:00:00         24546\n",
       "1 2013-12-31 23:10:00         24309\n",
       "2 2013-12-31 23:20:00         24348\n",
       "3 2013-12-31 23:30:00         24321\n",
       "4 2013-12-31 23:40:00         24194"
      ]
     },
     "execution_count": 4,
     "metadata": {},
     "output_type": "execute_result"
    }
   ],
   "source": [
    "df.head()"
   ]
  },
  {
   "cell_type": "code",
   "execution_count": 5,
   "metadata": {},
   "outputs": [],
   "source": [
    "# Convertir la columna \"datetime\" a tipo de dato datetime y asignarla como índice del DataFrame\n",
    "df.index = pd.to_datetime(df[\"datetime\"])"
   ]
  },
  {
   "cell_type": "code",
   "execution_count": 6,
   "metadata": {},
   "outputs": [
    {
     "data": {
      "text/plain": [
       "DatetimeIndex(['2013-12-31 23:00:00', '2013-12-31 23:10:00',\n",
       "               '2013-12-31 23:20:00', '2013-12-31 23:30:00',\n",
       "               '2013-12-31 23:40:00', '2013-12-31 23:50:00',\n",
       "               '2014-01-01 00:00:00', '2014-01-01 00:10:00',\n",
       "               '2014-01-01 00:20:00', '2014-01-01 00:30:00',\n",
       "               ...\n",
       "               '2023-03-31 11:20:00', '2023-03-31 11:30:00',\n",
       "               '2023-03-31 11:40:00', '2023-03-31 11:50:00',\n",
       "               '2023-03-31 12:00:00', '2023-03-31 12:10:00',\n",
       "               '2023-03-31 12:20:00', '2023-03-31 12:30:00',\n",
       "               '2023-03-31 12:40:00', '2023-03-31 12:50:00'],\n",
       "              dtype='datetime64[ns]', name='datetime', length=486228, freq='10T')"
      ]
     },
     "execution_count": 6,
     "metadata": {},
     "output_type": "execute_result"
    }
   ],
   "source": [
    "# Inferir la frecuencia de los índices del DataFrame\n",
    "df.index.freq = pd.infer_freq(df.index)\n",
    "df.index"
   ]
  },
  {
   "cell_type": "code",
   "execution_count": 7,
   "metadata": {},
   "outputs": [
    {
     "data": {
      "text/html": [
       "<div>\n",
       "<style scoped>\n",
       "    .dataframe tbody tr th:only-of-type {\n",
       "        vertical-align: middle;\n",
       "    }\n",
       "\n",
       "    .dataframe tbody tr th {\n",
       "        vertical-align: top;\n",
       "    }\n",
       "\n",
       "    .dataframe thead th {\n",
       "        text-align: right;\n",
       "    }\n",
       "</style>\n",
       "<table border=\"1\" class=\"dataframe\">\n",
       "  <thead>\n",
       "    <tr style=\"text-align: right;\">\n",
       "      <th></th>\n",
       "      <th>demanda_real</th>\n",
       "    </tr>\n",
       "    <tr>\n",
       "      <th>datetime</th>\n",
       "      <th></th>\n",
       "    </tr>\n",
       "  </thead>\n",
       "  <tbody>\n",
       "    <tr>\n",
       "      <th>2013-12-31 23:00:00</th>\n",
       "      <td>24546</td>\n",
       "    </tr>\n",
       "    <tr>\n",
       "      <th>2013-12-31 23:10:00</th>\n",
       "      <td>24309</td>\n",
       "    </tr>\n",
       "    <tr>\n",
       "      <th>2013-12-31 23:20:00</th>\n",
       "      <td>24348</td>\n",
       "    </tr>\n",
       "    <tr>\n",
       "      <th>2013-12-31 23:30:00</th>\n",
       "      <td>24321</td>\n",
       "    </tr>\n",
       "    <tr>\n",
       "      <th>2013-12-31 23:40:00</th>\n",
       "      <td>24194</td>\n",
       "    </tr>\n",
       "  </tbody>\n",
       "</table>\n",
       "</div>"
      ],
      "text/plain": [
       "                     demanda_real\n",
       "datetime                         \n",
       "2013-12-31 23:00:00         24546\n",
       "2013-12-31 23:10:00         24309\n",
       "2013-12-31 23:20:00         24348\n",
       "2013-12-31 23:30:00         24321\n",
       "2013-12-31 23:40:00         24194"
      ]
     },
     "execution_count": 7,
     "metadata": {},
     "output_type": "execute_result"
    }
   ],
   "source": [
    "# Eliminar la columna 'datetime' del DataFrame 'df' de forma inplace\n",
    "df.drop(columns=['datetime'], inplace=True)\n",
    "df.head()"
   ]
  },
  {
   "cell_type": "code",
   "execution_count": 8,
   "metadata": {},
   "outputs": [
    {
     "data": {
      "text/plain": [
       "demanda_real    0\n",
       "dtype: int64"
      ]
     },
     "execution_count": 8,
     "metadata": {},
     "output_type": "execute_result"
    }
   ],
   "source": [
    "# Visualizamos cuantos nulos hay\n",
    "df.isnull().sum()"
   ]
  },
  {
   "cell_type": "code",
   "execution_count": 9,
   "metadata": {},
   "outputs": [],
   "source": [
    "# Renombramos la columna a \"valores\"\n",
    "df.columns = [\"valores\"]"
   ]
  },
  {
   "cell_type": "code",
   "execution_count": 10,
   "metadata": {},
   "outputs": [],
   "source": [
    "# Preparamos los settings de Pycaret\n",
    "s = setup(df, fh = 3, fold = 5, session_id = 42)"
   ]
  },
  {
   "cell_type": "code",
   "execution_count": 11,
   "metadata": {},
   "outputs": [
    {
     "data": {
      "text/html": [
       "<div>\n",
       "<style scoped>\n",
       "    .dataframe tbody tr th:only-of-type {\n",
       "        vertical-align: middle;\n",
       "    }\n",
       "\n",
       "    .dataframe tbody tr th {\n",
       "        vertical-align: top;\n",
       "    }\n",
       "\n",
       "    .dataframe thead th {\n",
       "        text-align: right;\n",
       "    }\n",
       "</style>\n",
       "<table border=\"1\" class=\"dataframe\">\n",
       "  <thead>\n",
       "    <tr style=\"text-align: right;\">\n",
       "      <th></th>\n",
       "      <th></th>\n",
       "      <th></th>\n",
       "    </tr>\n",
       "    <tr>\n",
       "      <th></th>\n",
       "      <th></th>\n",
       "      <th></th>\n",
       "    </tr>\n",
       "  </thead>\n",
       "  <tbody>\n",
       "    <tr>\n",
       "      <th>Initiated</th>\n",
       "      <td>. . . . . . . . . . . . . . . . . .</td>\n",
       "      <td>23:00:00</td>\n",
       "    </tr>\n",
       "    <tr>\n",
       "      <th>Status</th>\n",
       "      <td>. . . . . . . . . . . . . . . . . .</td>\n",
       "      <td>Loading Dependencies</td>\n",
       "    </tr>\n",
       "    <tr>\n",
       "      <th>Estimator</th>\n",
       "      <td>. . . . . . . . . . . . . . . . . .</td>\n",
       "      <td>Compiling Library</td>\n",
       "    </tr>\n",
       "  </tbody>\n",
       "</table>\n",
       "</div>"
      ],
      "text/plain": [
       "                                                                    \n",
       "                                                                    \n",
       "Initiated  . . . . . . . . . . . . . . . . . .              23:00:00\n",
       "Status     . . . . . . . . . . . . . . . . . .  Loading Dependencies\n",
       "Estimator  . . . . . . . . . . . . . . . . . .     Compiling Library"
      ]
     },
     "metadata": {},
     "output_type": "display_data"
    },
    {
     "data": {
      "text/html": [],
      "text/plain": [
       "<IPython.core.display.HTML object>"
      ]
     },
     "metadata": {},
     "output_type": "display_data"
    }
   ],
   "source": [
    "# Buscamos y comparamos los mejores modelos\n",
    "best = compare_models()"
   ]
  },
  {
   "cell_type": "code",
   "execution_count": 12,
   "metadata": {},
   "outputs": [
    {
     "data": {
      "text/plain": [
       "ARIMA(seasonal_order=(0, 1, 0, 2))"
      ]
     },
     "execution_count": 12,
     "metadata": {},
     "output_type": "execute_result"
    }
   ],
   "source": [
    "# Visualizamos nuestro mejor modelo\n",
    "best"
   ]
  },
  {
   "cell_type": "code",
   "execution_count": 13,
   "metadata": {},
   "outputs": [],
   "source": [
    "# Entrenamos un modelo con las caraterísticas del mejor modelo\n",
    "final_best = finalize_model(best)\n"
   ]
  },
  {
   "cell_type": "code",
   "execution_count": 14,
   "metadata": {},
   "outputs": [
    {
     "name": "stdout",
     "output_type": "stream",
     "text": [
      "Transformation Pipeline and Model Successfully Saved\n"
     ]
    },
    {
     "data": {
      "text/plain": [
       "(ForecastingPipeline(steps=[('forecaster',\n",
       "                             TransformedTargetForecaster(steps=[('model',\n",
       "                                                                 ForecastingPipeline(steps=[('forecaster',\n",
       "                                                                                             TransformedTargetForecaster(steps=[('model',\n",
       "                                                                                                                                 ARIMA(seasonal_order=(0,\n",
       "                                                                                                                                                       1,\n",
       "                                                                                                                                                       0,\n",
       "                                                                                                                                                       2)))]))]))]))]),\n",
       " 'my_final_best_model.pkl')"
      ]
     },
     "execution_count": 14,
     "metadata": {},
     "output_type": "execute_result"
    }
   ],
   "source": [
    "# Guardamos nuestro modelo que tanto nos ha costado entrenar\n",
    "save_model(final_best, '../data/modelo/my_final_best_model')"
   ]
  },
  {
   "cell_type": "code",
   "execution_count": 19,
   "metadata": {},
   "outputs": [],
   "source": [
    "# Realizamos una predicción de 24 valores a partir de los datos con los que ha sido entrenados\n",
    "predictions = predict_model(best, fh = 24)"
   ]
  },
  {
   "cell_type": "code",
   "execution_count": 20,
   "metadata": {},
   "outputs": [],
   "source": [
    "# Guardamos la predicción para futura visualización\n",
    "predictions.to_csv(\"../data/visualizacion/predicción.csv\")"
   ]
  },
  {
   "cell_type": "code",
   "execution_count": 16,
   "metadata": {},
   "outputs": [],
   "source": [
    "# Podemos cargar el modelo que hemos entrenado en esta ruta\n",
    "loaded_model = load_model('../data/modelo/my_final_best_model')"
   ]
  }
 ],
 "metadata": {
  "kernelspec": {
   "display_name": "base",
   "language": "python",
   "name": "python3"
  },
  "language_info": {
   "codemirror_mode": {
    "name": "ipython",
    "version": 3
   },
   "file_extension": ".py",
   "mimetype": "text/x-python",
   "name": "python",
   "nbconvert_exporter": "python",
   "pygments_lexer": "ipython3",
   "version": "3.9.12"
  },
  "orig_nbformat": 4
 },
 "nbformat": 4,
 "nbformat_minor": 2
}
