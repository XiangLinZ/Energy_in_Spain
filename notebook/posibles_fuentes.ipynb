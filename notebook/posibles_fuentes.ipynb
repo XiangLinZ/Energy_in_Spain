{
 "cells": [
  {
   "cell_type": "code",
   "execution_count": 27,
   "metadata": {},
   "outputs": [],
   "source": [
    "import pandas as pd\n",
    "pd.set_option('max_colwidth', None)"
   ]
  },
  {
   "cell_type": "code",
   "execution_count": 15,
   "metadata": {},
   "outputs": [],
   "source": [
    "df = pd.DataFrame({\"link\":[], \"tipo\":[], \"descripcion\":[]})"
   ]
  },
  {
   "cell_type": "code",
   "execution_count": 17,
   "metadata": {},
   "outputs": [],
   "source": [
    "df.loc[\"gobierno_españa\"] = [\"https://datos.gob.es/es/catalogo?theme_id=energia\", \"csv\", \"distintos csv, json, etc de diferentes ayuntamientos, hay que filtrar\"]"
   ]
  },
  {
   "cell_type": "code",
   "execution_count": 19,
   "metadata": {},
   "outputs": [],
   "source": [
    "df.loc[\"red_electrica\"] = [\"https://www.ree.es/es/apidatos\", \"api\", \"proporciona datos en formato json a nivel españa y por provincias también, se puede perdir en margenes de años\"]"
   ]
  },
  {
   "cell_type": "code",
   "execution_count": 20,
   "metadata": {},
   "outputs": [],
   "source": [
    "df.loc[\"precio_luz\"] = [\"https://api.preciodelaluz.org/\", \"api\", \"proporciona Json de los precios actuales de la luz en diversas regiones, max 20_llamadas/min\"] "
   ]
  },
  {
   "cell_type": "code",
   "execution_count": 21,
   "metadata": {},
   "outputs": [],
   "source": [
    "df.loc[\"esios\"] = [\"https://www.esios.ree.es/es/pagina/api\", \"api\", \"hace falta token, devuelve json, no se del todo que tipo de datos tiene, pero pinta historicos\"]"
   ]
  },
  {
   "cell_type": "code",
   "execution_count": 23,
   "metadata": {},
   "outputs": [],
   "source": [
    "df.loc[\"mibgas\"] = [\"https://www.mibgas.es/es/file-access\", \"csv\", \"formato csv y json, históricos precio gas y transaciones\"]"
   ]
  },
  {
   "cell_type": "code",
   "execution_count": 28,
   "metadata": {},
   "outputs": [],
   "source": [
    "df.loc[\"demanda_ree\"] = [\"https://demanda.ree.es/visiona/peninsula/demandaqh/tablas/2007-01-01/1\", \"csv\", \"Scrapear, formato csv, posible soup o selenium, historico precios y fecha inicial 2007\"]"
   ]
  },
  {
   "cell_type": "code",
   "execution_count": 29,
   "metadata": {},
   "outputs": [
    {
     "data": {
      "text/html": [
       "<div>\n",
       "<style scoped>\n",
       "    .dataframe tbody tr th:only-of-type {\n",
       "        vertical-align: middle;\n",
       "    }\n",
       "\n",
       "    .dataframe tbody tr th {\n",
       "        vertical-align: top;\n",
       "    }\n",
       "\n",
       "    .dataframe thead th {\n",
       "        text-align: right;\n",
       "    }\n",
       "</style>\n",
       "<table border=\"1\" class=\"dataframe\">\n",
       "  <thead>\n",
       "    <tr style=\"text-align: right;\">\n",
       "      <th></th>\n",
       "      <th>link</th>\n",
       "      <th>tipo</th>\n",
       "      <th>descripcion</th>\n",
       "    </tr>\n",
       "  </thead>\n",
       "  <tbody>\n",
       "    <tr>\n",
       "      <th>gobierno_españa</th>\n",
       "      <td>https://datos.gob.es/es/catalogo?theme_id=energia</td>\n",
       "      <td>csv</td>\n",
       "      <td>distintos csv, json, etc de diferentes ayuntamientos, hay que filtrar</td>\n",
       "    </tr>\n",
       "    <tr>\n",
       "      <th>red_electrica</th>\n",
       "      <td>https://www.ree.es/es/apidatos</td>\n",
       "      <td>api</td>\n",
       "      <td>proporciona datos en formato json a nivel españa y por provincias también, se puede perdir en margenes de años</td>\n",
       "    </tr>\n",
       "    <tr>\n",
       "      <th>precio_luz</th>\n",
       "      <td>https://api.preciodelaluz.org/</td>\n",
       "      <td>api</td>\n",
       "      <td>proporciona Json de los precios actuales de la luz en diversas regiones, max 20_llamadas/min</td>\n",
       "    </tr>\n",
       "    <tr>\n",
       "      <th>esios</th>\n",
       "      <td>https://www.esios.ree.es/es/pagina/api</td>\n",
       "      <td>api</td>\n",
       "      <td>hace falta token, devuelve json, no se del todo que tipo de datos tiene, pero pinta historicos</td>\n",
       "    </tr>\n",
       "    <tr>\n",
       "      <th>mibgas</th>\n",
       "      <td>https://www.mibgas.es/es/file-access</td>\n",
       "      <td>csv</td>\n",
       "      <td>formato csv y json, históricos precio gas y transaciones</td>\n",
       "    </tr>\n",
       "    <tr>\n",
       "      <th>demanda_ree</th>\n",
       "      <td>https://demanda.ree.es/visiona/peninsula/demandaqh/tablas/2007-01-01/1</td>\n",
       "      <td>csv</td>\n",
       "      <td>Scrapear, formato csv, posible soup o selenium, historico precios y fecha inicial 2007</td>\n",
       "    </tr>\n",
       "  </tbody>\n",
       "</table>\n",
       "</div>"
      ],
      "text/plain": [
       "                                                                                   link  \\\n",
       "gobierno_españa                       https://datos.gob.es/es/catalogo?theme_id=energia   \n",
       "red_electrica                                            https://www.ree.es/es/apidatos   \n",
       "precio_luz                                               https://api.preciodelaluz.org/   \n",
       "esios                                            https://www.esios.ree.es/es/pagina/api   \n",
       "mibgas                                             https://www.mibgas.es/es/file-access   \n",
       "demanda_ree      https://demanda.ree.es/visiona/peninsula/demandaqh/tablas/2007-01-01/1   \n",
       "\n",
       "                tipo  \\\n",
       "gobierno_españa  csv   \n",
       "red_electrica    api   \n",
       "precio_luz       api   \n",
       "esios            api   \n",
       "mibgas           csv   \n",
       "demanda_ree      csv   \n",
       "\n",
       "                                                                                                                    descripcion  \n",
       "gobierno_españa                                           distintos csv, json, etc de diferentes ayuntamientos, hay que filtrar  \n",
       "red_electrica    proporciona datos en formato json a nivel españa y por provincias también, se puede perdir en margenes de años  \n",
       "precio_luz                         proporciona Json de los precios actuales de la luz en diversas regiones, max 20_llamadas/min  \n",
       "esios                            hace falta token, devuelve json, no se del todo que tipo de datos tiene, pero pinta historicos  \n",
       "mibgas                                                                 formato csv y json, históricos precio gas y transaciones  \n",
       "demanda_ree                              Scrapear, formato csv, posible soup o selenium, historico precios y fecha inicial 2007  "
      ]
     },
     "execution_count": 29,
     "metadata": {},
     "output_type": "execute_result"
    }
   ],
   "source": [
    "df"
   ]
  },
  {
   "cell_type": "code",
   "execution_count": null,
   "metadata": {},
   "outputs": [],
   "source": []
  }
 ],
 "metadata": {
  "kernelspec": {
   "display_name": "base",
   "language": "python",
   "name": "python3"
  },
  "language_info": {
   "codemirror_mode": {
    "name": "ipython",
    "version": 3
   },
   "file_extension": ".py",
   "mimetype": "text/x-python",
   "name": "python",
   "nbconvert_exporter": "python",
   "pygments_lexer": "ipython3",
   "version": "3.9.12"
  },
  "orig_nbformat": 4
 },
 "nbformat": 4,
 "nbformat_minor": 2
}
