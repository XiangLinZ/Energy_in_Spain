{
 "cells": [
  {
   "cell_type": "code",
   "execution_count": 1,
   "metadata": {},
   "outputs": [],
   "source": [
    "import calendar\n",
    "import pandas as pd\n",
    "import numpy as np\n",
    "import pickle\n",
    "\n",
    "import sys\n",
    "sys.path.append(\"../\")\n",
    "import src.soporte as sp\n",
    "import src.biblioteca as bb"
   ]
  },
  {
   "cell_type": "code",
   "execution_count": 2,
   "metadata": {},
   "outputs": [],
   "source": [
    "df = pd.read_csv(\"../data/scrap/demanda.csv\")\n",
    "df[\"datetime\"] = pd.to_datetime(df[\"datetime\"], utc = True, format = '%Y-%m-%d %H:%M:%S%z')\n",
    "df['datetime'] = df['datetime'].dt.tz_convert('Europe/Paris')\n",
    "with open(f'../data/visualizacion/px_demanda.pkl', 'wb') as demanda:\n",
    "    pickle.dump(df, demanda)"
   ]
  },
  {
   "cell_type": "code",
   "execution_count": 3,
   "metadata": {},
   "outputs": [],
   "source": [
    "df2 = pd.read_csv(\"../data/scrap/demanda_tiempo_real.csv\")\n",
    "df2.drop([\"percentage_Demanda real\", \"percentage_Demanda programada\", \"percentage_Demanda prevista\"], axis = 1, inplace = True)\n",
    "df2[\"datetime\"] = pd.to_datetime(df2[\"datetime\"], utc = True, format = '%Y-%m-%d %H:%M:%S%z')\n",
    "df2['datetime'] = df2['datetime'].dt.tz_convert('Europe/Paris')\n",
    "with open(f'../data/visualizacion/px_demanda_real.pkl', 'wb') as demanda_real:\n",
    "    pickle.dump(df2, demanda_real)"
   ]
  },
  {
   "cell_type": "code",
   "execution_count": 4,
   "metadata": {},
   "outputs": [],
   "source": [
    "df3 = pd.read_csv(\"../data/scrap/demanda_tiempo_real.csv\")\n",
    "df3.drop([\"percentage_Demanda real\", \"percentage_Demanda programada\", \"percentage_Demanda prevista\"], axis = 1, inplace = True)\n",
    "df3[\"datetime\"] = pd.to_datetime(df3[\"datetime\"], utc = True, format = '%Y-%m-%d %H:%M:%S%z')\n",
    "df3[\"drop\"] = df3[\"datetime\"].where(df3[\"datetime\"].dt.minute % 10 == 0, other= \"drop\")\n",
    "df3 = df3[df3[\"drop\"] != \"drop\"]\n",
    "df3.drop([\"drop\"], inplace = True, axis = 1)"
   ]
  },
  {
   "cell_type": "code",
   "execution_count": 5,
   "metadata": {},
   "outputs": [],
   "source": [
    "df_estaciones = pd.DataFrame()\n",
    "for k,v in bb.estaciones.items():\n",
    "    estacion_todo = pd.DataFrame()\n",
    "    for year in range(2013,2024):\n",
    "        inicio = pd.to_datetime(f'{year}-{v[0]} 00:00:00+01:00')\n",
    "        if k == \"Invierno\":\n",
    "            fin = pd.to_datetime(f'{year+1}-{v[1]} 23:59:59+02:00')\n",
    "        else: \n",
    "            fin = pd.to_datetime(f'{year}-{v[1]} 23:59:59+02:00')\n",
    "        df_estacion_año = df3[(df3[\"datetime\"] >= inicio) & (df3[\"datetime\"] <= fin)]\n",
    "        estacion_todo = pd.concat([estacion_todo, df_estacion_año], axis = 0)\n",
    "    estacion_todo[\"dia\"] = estacion_todo[\"datetime\"].dt.day_of_week\n",
    "    estacion_todo['hour'] = estacion_todo['datetime'].dt.hour\n",
    "    estacion_todo['minute'] = estacion_todo['datetime'].dt.minute\n",
    "    estacion_semana = estacion_todo.groupby(by = ['dia', 'hour', 'minute'])[\"value_Demanda real\"].mean().reset_index()\n",
    "    estacion = pd.DataFrame(estacion_semana[\"value_Demanda real\"])\n",
    "    estacion.columns = [f\"Demanda {k}\"]\n",
    "    df_estaciones = pd.concat([df_estaciones, estacion], axis = 1, ignore_index= True)"
   ]
  },
  {
   "cell_type": "code",
   "execution_count": 6,
   "metadata": {},
   "outputs": [],
   "source": [
    "df_estaciones.columns = [\"Primavera\", \"Verano\", \"Otoño\", \"Invierno\"]\n",
    "df_estaciones[\"Día\"]= [n+1 for n in range(df_estaciones.shape[0])]\n",
    "with open(f'../data/visualizacion/px_demanda_estacion.pkl', 'wb') as demanda_estacion:\n",
    "    pickle.dump(df_estaciones, demanda_estacion)"
   ]
  },
  {
   "cell_type": "code",
   "execution_count": 7,
   "metadata": {},
   "outputs": [],
   "source": [
    "df4 = pd.read_csv(\"../data/scrap/precios_mercados.csv\")\n",
    "df4[\"datetime\"] = pd.to_datetime(df4[\"datetime\"], utc = True, format = '%Y-%m-%d %H:%M:%S%z')\n",
    "df4['datetime'] = df4['datetime'].dt.tz_convert('Europe/Paris')\n",
    "with open(f'../data/visualizacion/px_precio_diario.pkl', 'wb') as precios_diario:\n",
    "    pickle.dump(df4, precios_diario)\n",
    "df4['mes_y_año'] = df4['datetime'].dt.strftime('%m-%Y')\n",
    "df_mes = (df4.groupby(by = \"mes_y_año\")[\"value\"].sum()).reset_index()\n",
    "df_mes[\"mes_y_año\"] =  pd.to_datetime(df_mes['mes_y_año'], format='%m-%Y')\n",
    "df_mes.sort_values(by= \"mes_y_año\", ascending = True, inplace = True)\n",
    "with open(f'../data/visualizacion/px_precio_historico.pkl', 'wb') as precios_historico:\n",
    "    pickle.dump(df_mes, precios_historico)"
   ]
  },
  {
   "cell_type": "code",
   "execution_count": 8,
   "metadata": {},
   "outputs": [
    {
     "name": "stderr",
     "output_type": "stream",
     "text": [
      "C:\\Users\\Lin\\AppData\\Local\\Temp\\ipykernel_19256\\3814431763.py:30: SettingWithCopyWarning: \n",
      "A value is trying to be set on a copy of a slice from a DataFrame\n",
      "\n",
      "See the caveats in the documentation: https://pandas.pydata.org/pandas-docs/stable/user_guide/indexing.html#returning-a-view-versus-a-copy\n",
      "  todas_energias.fillna(0, inplace = True)\n",
      "C:\\Users\\Lin\\AppData\\Local\\Temp\\ipykernel_19256\\3814431763.py:31: SettingWithCopyWarning: \n",
      "A value is trying to be set on a copy of a slice from a DataFrame.\n",
      "Try using .loc[row_indexer,col_indexer] = value instead\n",
      "\n",
      "See the caveats in the documentation: https://pandas.pydata.org/pandas-docs/stable/user_guide/indexing.html#returning-a-view-versus-a-copy\n",
      "  todas_energias['mes_y_año'] = todas_energias['datetime'].dt.strftime('%m-%Y')\n"
     ]
    }
   ],
   "source": [
    "df5 = pd.read_csv(\"../data/scrap/balance.csv\")\n",
    "df5[\"datetime\"] = pd.to_datetime(df5[\"datetime\"], utc = True, format = '%Y-%m-%d %H:%M:%S%z')\n",
    "df5['datetime'] = df5['datetime'].dt.tz_convert('Europe/Paris')\n",
    "df5[\"año\"] = df5[\"datetime\"].dt.year\n",
    "\n",
    "balance_no_reno = df5[[\"percentage_Turbinación bombeo\",\"percentage_Nuclear\", \"percentage_Ciclo combinado\", \"percentage_Carbón\", \"percentage_Turbina de gas\", \"percentage_Motores diésel\", \"percentage_Turbina de vapor\", \"percentage_Fuel + Gas\", \"percentage_Cogeneración\",\"percentage_Residuos no renovables\"]]*60.25\n",
    "balance_no_reno.columns = [energia.replace(\"percentage_\", \"\") for energia in balance_no_reno.columns]\n",
    "\n",
    "no_renovables = balance_no_reno.fillna(0).mean().reset_index(name = \"value\").rename(columns={\"index\": \"Energia\"})\n",
    "no_renovables[\"Tipo\"] = \"No Renovable\"\n",
    "\n",
    "\n",
    "balance_reno = df5[[\"percentage_Hidráulica\",\"percentage_Eólica\", \"percentage_Solar fotovoltaica\", \"percentage_Solar térmica\", \"percentage_Otras renovables\", \"percentage_Residuos renovables\", \"percentage_Hidroeólica\"]]*39.75\n",
    "balance_reno.columns = [energia.replace(\"percentage_\", \"\") for energia in balance_reno.columns]\n",
    "\n",
    "renovables = balance_reno.fillna(0).mean().reset_index(name = \"value\").rename(columns={\"index\": \"Energia\"})\n",
    "renovables[\"Tipo\"] = \"Renovable\"\n",
    "\n",
    "energias = pd.concat([renovables, no_renovables], axis= 0)\n",
    "energias[\"value\"] = round(energias[\"value\"],2)\n",
    "energias.sort_values(by= \"value\", ascending= False, inplace= True)\n",
    "\n",
    "with open(f'../data/visualizacion/px_porcentage_renovables.pkl', 'wb') as porcentage_renovables:\n",
    "    pickle.dump(energias, porcentage_renovables)\n",
    "\n",
    "todas_energias = df5[[\"datetime\",\"value_Turbinación bombeo\",\"value_Nuclear\", \"value_Ciclo combinado\", \"value_Carbón\", \"value_Turbina de gas\", \"value_Motores diésel\", \"value_Turbina de vapor\",\n",
    "                \"value_Fuel + Gas\", \"value_Cogeneración\",\"value_Residuos no renovables\", \"value_Hidráulica\",\"value_Eólica\", \"value_Solar fotovoltaica\", \"value_Solar térmica\",\n",
    "                \"value_Otras renovables\", \"value_Residuos renovables\", \"value_Hidroeólica\"]]\n",
    "todas_energias.columns = [\"datetime\"]+[energia.replace(\"value_\",\"\") for energia in todas_energias.drop(\"datetime\", axis = 1).columns]\n",
    "todas_energias.fillna(0, inplace = True)\n",
    "todas_energias['mes_y_año'] = todas_energias['datetime'].dt.strftime('%m-%Y')\n",
    "todas_energias_mes = (todas_energias.groupby(by = \"mes_y_año\")[bb.tipos_energia].mean()).reset_index()\n",
    "todas_energias_mes[\"mes_y_año\"] =  pd.to_datetime(todas_energias_mes['mes_y_año'], format = '%m-%Y')\n",
    "todas_energias_mes.sort_values(by = \"mes_y_año\", ascending = True, inplace = True)\n",
    "\n",
    "with open(f'../data/visualizacion/px_balance_renovables.pkl', 'wb') as balance_renovables:\n",
    "    pickle.dump(todas_energias_mes, balance_renovables)"
   ]
  },
  {
   "cell_type": "code",
   "execution_count": 9,
   "metadata": {},
   "outputs": [
    {
     "name": "stderr",
     "output_type": "stream",
     "text": [
      "C:\\Users\\Lin\\AppData\\Local\\Temp\\ipykernel_19256\\2848784245.py:9: FutureWarning: Indexing with multiple keys (implicitly converted to a tuple of keys) will be deprecated, use a list instead.\n",
      "  evolucion_reno_mes = (df6.groupby(by = \"mes_y_año\")[\"percentage_Renovable\", \"percentage_No renovable\"].mean()).reset_index()\n"
     ]
    }
   ],
   "source": [
    "df6 = pd.read_csv(\"../data/scrap/evolucion_renovable_no_renovable.csv\")\n",
    "df6[\"datetime\"] = pd.to_datetime(df6[\"datetime\"], utc = True, format = '%Y-%m-%d %H:%M:%S%z')\n",
    "df6['datetime'] = df6['datetime'].dt.tz_convert('Europe/Paris')\n",
    "\n",
    "porcentage_reno = round(df6[\"percentage_Renovable\"].mean() *100, 2)\n",
    "porcentage_no_reno = round(df6[\"percentage_No renovable\"].mean() *100, 2)\n",
    "\n",
    "df6['mes_y_año'] = df6['datetime'].dt.strftime('%m-%Y')\n",
    "evolucion_reno_mes = (df6.groupby(by = \"mes_y_año\")[\"percentage_Renovable\", \"percentage_No renovable\"].mean()).reset_index()\n",
    "evolucion_reno_mes[\"mes_y_año\"] =  pd.to_datetime(evolucion_reno_mes['mes_y_año'], format = '%m-%Y')\n",
    "evolucion_reno_mes.sort_values(by = \"mes_y_año\", ascending = True, inplace = True)\n",
    "\n",
    "with open(f'../data/visualizacion/px_evo_reno.pkl', 'wb') as evo_reno:\n",
    "    pickle.dump(evolucion_reno_mes, evo_reno)"
   ]
  },
  {
   "cell_type": "code",
   "execution_count": 10,
   "metadata": {},
   "outputs": [
    {
     "data": {
      "text/html": [
       "<div>\n",
       "<style scoped>\n",
       "    .dataframe tbody tr th:only-of-type {\n",
       "        vertical-align: middle;\n",
       "    }\n",
       "\n",
       "    .dataframe tbody tr th {\n",
       "        vertical-align: top;\n",
       "    }\n",
       "\n",
       "    .dataframe thead th {\n",
       "        text-align: right;\n",
       "    }\n",
       "</style>\n",
       "<table border=\"1\" class=\"dataframe\">\n",
       "  <thead>\n",
       "    <tr style=\"text-align: right;\">\n",
       "      <th></th>\n",
       "      <th>mes_y_año</th>\n",
       "      <th>percentage_Renovable</th>\n",
       "      <th>percentage_No renovable</th>\n",
       "    </tr>\n",
       "  </thead>\n",
       "  <tbody>\n",
       "    <tr>\n",
       "      <th>0</th>\n",
       "      <td>2014-01-01</td>\n",
       "      <td>0.487314</td>\n",
       "      <td>0.512686</td>\n",
       "    </tr>\n",
       "    <tr>\n",
       "      <th>10</th>\n",
       "      <td>2014-02-01</td>\n",
       "      <td>0.556173</td>\n",
       "      <td>0.443827</td>\n",
       "    </tr>\n",
       "    <tr>\n",
       "      <th>20</th>\n",
       "      <td>2014-03-01</td>\n",
       "      <td>0.518892</td>\n",
       "      <td>0.481108</td>\n",
       "    </tr>\n",
       "    <tr>\n",
       "      <th>30</th>\n",
       "      <td>2014-04-01</td>\n",
       "      <td>0.497904</td>\n",
       "      <td>0.502096</td>\n",
       "    </tr>\n",
       "    <tr>\n",
       "      <th>39</th>\n",
       "      <td>2014-05-01</td>\n",
       "      <td>0.423910</td>\n",
       "      <td>0.576090</td>\n",
       "    </tr>\n",
       "    <tr>\n",
       "      <th>...</th>\n",
       "      <td>...</td>\n",
       "      <td>...</td>\n",
       "      <td>...</td>\n",
       "    </tr>\n",
       "    <tr>\n",
       "      <th>101</th>\n",
       "      <td>2022-11-01</td>\n",
       "      <td>0.462579</td>\n",
       "      <td>0.537421</td>\n",
       "    </tr>\n",
       "    <tr>\n",
       "      <th>110</th>\n",
       "      <td>2022-12-01</td>\n",
       "      <td>0.445510</td>\n",
       "      <td>0.554490</td>\n",
       "    </tr>\n",
       "    <tr>\n",
       "      <th>9</th>\n",
       "      <td>2023-01-01</td>\n",
       "      <td>0.562183</td>\n",
       "      <td>0.437817</td>\n",
       "    </tr>\n",
       "    <tr>\n",
       "      <th>19</th>\n",
       "      <td>2023-02-01</td>\n",
       "      <td>0.448230</td>\n",
       "      <td>0.551770</td>\n",
       "    </tr>\n",
       "    <tr>\n",
       "      <th>29</th>\n",
       "      <td>2023-03-01</td>\n",
       "      <td>0.528342</td>\n",
       "      <td>0.471658</td>\n",
       "    </tr>\n",
       "  </tbody>\n",
       "</table>\n",
       "<p>111 rows × 3 columns</p>\n",
       "</div>"
      ],
      "text/plain": [
       "     mes_y_año  percentage_Renovable  percentage_No renovable\n",
       "0   2014-01-01              0.487314                 0.512686\n",
       "10  2014-02-01              0.556173                 0.443827\n",
       "20  2014-03-01              0.518892                 0.481108\n",
       "30  2014-04-01              0.497904                 0.502096\n",
       "39  2014-05-01              0.423910                 0.576090\n",
       "..         ...                   ...                      ...\n",
       "101 2022-11-01              0.462579                 0.537421\n",
       "110 2022-12-01              0.445510                 0.554490\n",
       "9   2023-01-01              0.562183                 0.437817\n",
       "19  2023-02-01              0.448230                 0.551770\n",
       "29  2023-03-01              0.528342                 0.471658\n",
       "\n",
       "[111 rows x 3 columns]"
      ]
     },
     "execution_count": 10,
     "metadata": {},
     "output_type": "execute_result"
    }
   ],
   "source": [
    "evolucion_reno_mes"
   ]
  },
  {
   "cell_type": "code",
   "execution_count": 11,
   "metadata": {},
   "outputs": [
    {
     "name": "stderr",
     "output_type": "stream",
     "text": [
      "C:\\Users\\Lin\\AppData\\Local\\Temp\\ipykernel_19256\\126885377.py:6: FutureWarning: Indexing with multiple keys (implicitly converted to a tuple of keys) will be deprecated, use a list instead.\n",
      "  df_mes_emisiones = (df7.groupby(by = \"mes_y_año\")[\"value_Carbón\", \"value_Motores diésel\", \"value_Turbina de gas\", \"value_Turbina de vapor\", \"value_Ciclo combinado\", \"value_Cogeneración\", \"value_Residuos no renovables\"].sum()).reset_index()\n"
     ]
    }
   ],
   "source": [
    "df7 = pd.read_csv(\"../data/scrap/emisiones_CO2.csv\")\n",
    "df7[\"datetime\"] = pd.to_datetime(df7[\"datetime\"], utc = True, format = '%Y-%m-%d %H:%M:%S%z')\n",
    "df7['datetime'] = df7['datetime'].dt.tz_convert('Europe/Paris')\n",
    "df7['mes_y_año'] = df7['datetime'].dt.strftime('%m-%Y')\n",
    "\n",
    "df_mes_emisiones = (df7.groupby(by = \"mes_y_año\")[\"value_Carbón\", \"value_Motores diésel\", \"value_Turbina de gas\", \"value_Turbina de vapor\", \"value_Ciclo combinado\", \"value_Cogeneración\", \"value_Residuos no renovables\"].sum()).reset_index()\n",
    "df_mes_emisiones[\"mes_y_año\"] =  pd.to_datetime(df_mes_emisiones['mes_y_año'], format='%m-%Y')\n",
    "df_mes_emisiones.sort_values(by= \"mes_y_año\", ascending = True, inplace = True)\n",
    "\n",
    "with open(f'../data/visualizacion/px_emisiones.pkl', 'wb') as emisiones:\n",
    "    pickle.dump(df_mes_emisiones, emisiones)"
   ]
  },
  {
   "cell_type": "code",
   "execution_count": 12,
   "metadata": {},
   "outputs": [],
   "source": [
    "df8 = pd.read_csv(\"../data/scrap/perdidas_transporte.csv\")\n",
    "\n",
    "df8[\"datetime\"] = pd.to_datetime(df8[\"datetime\"], utc = True, format = '%Y-%m-%d %H:%M:%S%z')\n",
    "df8['datetime'] = df8['datetime'].dt.tz_convert('Europe/Paris')\n",
    "df8[\"percentage\"] = (df8[\"percentage\"] * 100)\n",
    "df8['mes_y_año'] = df8['datetime'].dt.strftime('%m-%Y')\n",
    "\n",
    "perdidas2_mes = (df8.groupby(by = \"mes_y_año\")[\"percentage\"].mean()).reset_index()\n",
    "perdidas2_mes[\"mes_y_año\"] =  pd.to_datetime(perdidas2_mes['mes_y_año'], format='%m-%Y')\n",
    "perdidas2_mes.sort_values(by= \"mes_y_año\", ascending = True, inplace = True)\n",
    "\n",
    "with open(f'../data/visualizacion/px_perdidas.pkl', 'wb') as perdidas:\n",
    "    pickle.dump(perdidas2_mes, perdidas)"
   ]
  },
  {
   "cell_type": "code",
   "execution_count": null,
   "metadata": {},
   "outputs": [],
   "source": []
  }
 ],
 "metadata": {
  "kernelspec": {
   "display_name": "base",
   "language": "python",
   "name": "python3"
  },
  "language_info": {
   "codemirror_mode": {
    "name": "ipython",
    "version": 3
   },
   "file_extension": ".py",
   "mimetype": "text/x-python",
   "name": "python",
   "nbconvert_exporter": "python",
   "pygments_lexer": "ipython3",
   "version": "3.9.12"
  },
  "orig_nbformat": 4
 },
 "nbformat": 4,
 "nbformat_minor": 2
}
